{
 "cells": [
  {
   "cell_type": "code",
   "execution_count": 2,
   "metadata": {
    "collapsed": false
   },
   "outputs": [
    {
     "name": "stdout",
     "output_type": "stream",
     "text": [
      "sys.version_info(major=3, minor=5, micro=2, releaselevel='final', serial=0)\n"
     ]
    }
   ],
   "source": [
    "import sys\n",
    "%matplotlib inline\n",
    "import matplotlib.pyplot as plt\n",
    "import numpy as np\n",
    "import pandas as pd \n",
    "from collections import Counter\n",
    "import time, random, re, pprint, string, copy\n",
    "import scipy.misc\n",
    "from itertools import islice, chain\n",
    "from matplotlib import pyplot as plt\n",
    "pd.set_option('display.max_columns', None)\n",
    "print(sys.version_info)"
   ]
  },
  {
   "cell_type": "markdown",
   "metadata": {},
   "source": [
    "# Load in Data and Take a Look"
   ]
  },
  {
   "cell_type": "code",
   "execution_count": 3,
   "metadata": {
    "collapsed": false
   },
   "outputs": [],
   "source": [
    "%timeit\n",
    "#Load Data: \n",
    "train_x = np.load('tinyX.npy') \n",
    "train_y = np.load('tinyY.npy') "
   ]
  },
  {
   "cell_type": "code",
   "execution_count": 4,
   "metadata": {
    "collapsed": false
   },
   "outputs": [
    {
     "data": {
      "text/plain": [
       "array([ 0,  0,  0, ..., 39, 39, 39], dtype=uint8)"
      ]
     },
     "execution_count": 4,
     "metadata": {},
     "output_type": "execute_result"
    }
   ],
   "source": [
    "train_y"
   ]
  },
  {
   "cell_type": "code",
   "execution_count": 5,
   "metadata": {
    "collapsed": false
   },
   "outputs": [
    {
     "data": {
      "text/plain": [
       "64"
      ]
     },
     "execution_count": 5,
     "metadata": {},
     "output_type": "execute_result"
    }
   ],
   "source": [
    "len(train_x[0][0][0])"
   ]
  },
  {
   "cell_type": "code",
   "execution_count": 6,
   "metadata": {
    "collapsed": false
   },
   "outputs": [
    {
     "data": {
      "text/plain": [
       "(26344, 3, 64, 64)"
      ]
     },
     "execution_count": 6,
     "metadata": {},
     "output_type": "execute_result"
    }
   ],
   "source": [
    "train_x.shape"
   ]
  },
  {
   "cell_type": "code",
   "execution_count": 9,
   "metadata": {
    "collapsed": false
   },
   "outputs": [
    {
     "data": {
      "image/png": "[encoded data removed]",
      "text/plain": [
       "<matplotlib.figure.Figure at 0x1287e74a8>"
      ]
     },
     "metadata": {},
     "output_type": "display_data"
    }
   ],
   "source": [
    "plt.imshow(train_x[0].transpose(2,1,0)) # put RGB channels last\n",
    "plt.show()"
   ]
  },
  {
   "cell_type": "code",
   "execution_count": 10,
   "metadata": {
    "collapsed": false
   },
   "outputs": [
    {
     "data": {
      "text/plain": [
       "0    8000\n",
       "1    4000\n",
       "2    2080\n",
       "3    1040\n",
       "4     800\n",
       "Name: 0, dtype: int64"
      ]
     },
     "execution_count": 10,
     "metadata": {},
     "output_type": "execute_result"
    }
   ],
   "source": [
    "#Counts of examples per category\n",
    "pd.DataFrame(train_y)[0].value_counts().head()"
   ]
  },
  {
   "cell_type": "code",
   "execution_count": 11,
   "metadata": {
    "collapsed": false
   },
   "outputs": [
    {
     "data": {
      "text/plain": [
       "(26344, 12288)"
      ]
     },
     "execution_count": 11,
     "metadata": {},
     "output_type": "execute_result"
    }
   ],
   "source": [
    "# Reshape the array into two-dimensions\n",
    "x2 = np.reshape(train_x, (26344,-1))\n",
    "x2.shape"
   ]
  },
  {
   "cell_type": "markdown",
   "metadata": {},
   "source": [
    "# Neural Network"
   ]
  },
  {
   "cell_type": "markdown",
   "metadata": {},
   "source": [
    "Architechture in the Neural Network: \n",
    "\n",
    "Our training data is of dim: $n \\times p$ (n training examples, p parameters)\n",
    "\n",
    "We will start with a simple Neural-Net with 2 layers: 1 hidden layer, and one output later\n",
    "\n",
    "Each of the M nodes in the first hidden layer has an p-vector of weights,and a single constant. This means that the hidden layer  is represented by a $m \\times 1$ vector of constants $b$, and an $m \\times p$ matrix of weights $W$. An arbitrary hidden layer $i$ is represented by an $m \\times 1$ vector of constants $b_i$ and a $m \\times q$ matrix of weights $W_i$, where $q$ is the number of nodes in the prior layer $i-1$. \n",
    "\n",
    "In each node, we use the sigmoid function to transoform the input $a_{i-1}$ into the output $a_i$ by: $a_i = \\sigma(B_i + a_{i-1} W_i)$\n",
    "\n",
    "As we deal with classification, we predict using the final output of the last layer using the softmax function: $P_k(a) = \\frac{e^{ak}}{\\sum_1^K e^{Ti}}$. Where $K$ is the toal number of classes\n",
    "\n",
    "The error for the output given the set of weights is calculated as the cross-entropy deviance. $$\\sum_{i=1}^N \\sum_{k=1}^K \\ y_{ik} \\ ln( f_k(x_i))$$\n",
    "\n",
    "Where $f_k(x_i)$ is the output probability (from softmax) of class $k$ for training example $x_i$ \n",
    "\n",
    "\n",
    "To train the network, we use back propogation, which is analogous to gradient descent on the weights. \n",
    "\n",
    "\n",
    "\n",
    "\n",
    "\n"
   ]
  },
  {
   "cell_type": "code",
   "execution_count": 12,
   "metadata": {
    "collapsed": false
   },
   "outputs": [
    {
     "data": {
      "text/plain": [
       "40"
      ]
     },
     "execution_count": 12,
     "metadata": {},
     "output_type": "execute_result"
    }
   ],
   "source": [
    "pd.DataFrame(train_y)[0].value_counts().shape[0]"
   ]
  },
  {
   "cell_type": "code",
   "execution_count": 264,
   "metadata": {
    "collapsed": true
   },
   "outputs": [],
   "source": [
    "def accuracy(y, truey): \n",
    "    return sum(y == truey) / len(y)\n",
    "\n",
    "def oos_accuracy(X, truey, weights): \n",
    "    probs = prop_forward(X,weights[0], weights[1], weights[2], weights[3])\n",
    "    classes = np.argmax(probs, axis = 1)\n",
    "    return sum(classes == truey) / len(truey)"
   ]
  },
  {
   "cell_type": "code",
   "execution_count": 260,
   "metadata": {
    "collapsed": false
   },
   "outputs": [],
   "source": [
    "#sigmoid function \n",
    "def sigmoid(X):\n",
    "    return 1 / (1 + np.exp(-X))\n",
    "\n",
    "#Forward Propogation\n",
    "def prop_forward(X, w01,W1,w02,W2):\n",
    "    a1 = sigmoid(w01.T + X.dot(W1)) #Output from layer 1\n",
    "    a2 = w02.T + a1.dot(W2) #Output from Layer 2 before Softmax\n",
    "    predicted_probs = np.exp(a2) / sum(np.exp(a2)) #probabilities\n",
    "    #predicted = max(predicted_probs)\n",
    "    return  predicted_probs\n",
    "\n",
    "def forward_back(X,y, alpha,w01, W1,w02,W2):\n",
    "    #performs one iteration of updating\n",
    "    \n",
    "    #Forward Propogation\n",
    "    a1 = sigmoid(w01.T + X.dot(W1)) #Output from layer 1\n",
    "    a2 = w02.T + a1.dot(W2) #Output from Layer 2 before Softmax\n",
    "    probs_out = np.exp(a2) / sum(np.exp(a2)) #probabilities\n",
    "    class_out = np.argmax(probs_out, axis = 1)\n",
    "    \n",
    "    \n",
    "    #Backwards propogation\n",
    "    dy = probs_out # dy = y - t\n",
    "    dy[range(len(dy)), y] -= 1\n",
    "    \n",
    "    dw02 = dy\n",
    "    dW2 = (a1.T).dot(dy)\n",
    "    ds = a1 * (1 - a1) #derivative of the sigmoid function\n",
    "    dW1 = X.T.dot(dy.dot(W2.T)*ds)\n",
    "    dw01 = np.sum(dy.dot(W2.T), axis = 0)\n",
    "    \n",
    "#     print(\"dy = \" + str(dy))\n",
    "#     print(\"a1 = \" + str(a1[0:20]))\n",
    "#     print(\"a2 = \" + str(a2[0:20]))\n",
    "#     print(\"probs_out = \" + str(probs_out))\n",
    "#     print(\"dw01 = \" + str(dw01[0:20]))\n",
    "#     print(\"dw02 = \" + str(dw02[0:20]))\n",
    "#     print(\"dW1 = \" + str(dW1[0:20]))\n",
    "#     print(\"dW2 = \" + str(dW2[0:20]))\n",
    "   \n",
    "    #Update all weights in direction of gradient\n",
    "    w02 -= alpha * w02\n",
    "    W2 -= alpha * dW2\n",
    "    w01 -= alpha * dw01\n",
    "    W1 -= alpha * dW1\n",
    "    \n",
    "    return [w01, W1, w02, W2]"
   ]
  },
  {
   "cell_type": "code",
   "execution_count": 268,
   "metadata": {
    "collapsed": false
   },
   "outputs": [],
   "source": [
    "#Training the model: \n",
    "def train(X, y, n_nodes, alpha, maxn): \n",
    "    \n",
    "    #Set Constants \n",
    "    n_exs = X.shape[0]\n",
    "    n_dims = X.shape[1]\n",
    "    n_classes = pd.DataFrame(y)[0].value_counts().shape[0]\n",
    "    \n",
    "    #Initialize Weights Randomely\n",
    "    w01 = np.zeros(n_nodes)\n",
    "    W1 = np.random.randn(n_dims, n_nodes)\n",
    "    w02 = np.zeros(n_classes)\n",
    "    W2 = np.random.randn(n_nodes, n_classes)\n",
    "    \n",
    "    for i in range(0,maxn):\n",
    "        #Gradient descent to train the weights- forward and backwards propogation\n",
    "        w01, W1, w02, W2 = forward_back(X, y, alpha, w01,W1, w02,W2)\n",
    "\n",
    "        if (i % 100 == 0):\n",
    "            #check the progress\n",
    "            probs_out = prop_forward(X, w01, W1, w02, W2)\n",
    "            loss = sum(-np.log(probs_out[range(len(probs_out)), y]))\n",
    "            print(\" i = \" + str(i) + \", error = \" + str(loss))\n",
    "        \n",
    "        \n",
    "    probs_out = prop_forward(X, w01,W1, w02, W2)\n",
    "    class_out = np.argmax(probs_out, axis = 1)\n",
    "    \n",
    "    return probs_out, class_out, [w01, W1, w02, W2]"
   ]
  },
  {
   "cell_type": "code",
   "execution_count": 289,
   "metadata": {
    "collapsed": false
   },
   "outputs": [],
   "source": [
    "n_train = 1000\n",
    "index = random.sample(range(len(x2)), n_train)"
   ]
  },
  {
   "cell_type": "code",
   "execution_count": 295,
   "metadata": {
    "collapsed": false
   },
   "outputs": [
    {
     "name": "stdout",
     "output_type": "stream",
     "text": [
      " i = 0, error = 7285.55079383\n",
      "CPU times: user 31.7 s, sys: 4.18 s, total: 35.9 s\n",
      "Wall time: 9.28 s\n"
     ]
    }
   ],
   "source": [
    "%%time\n",
    "weights = []\n",
    "probs, classes, weights = train(x2[index], train_y[index], 10, 1e-6,100)"
   ]
  },
  {
   "cell_type": "code",
   "execution_count": 296,
   "metadata": {
    "collapsed": false
   },
   "outputs": [
    {
     "name": "stdout",
     "output_type": "stream",
     "text": [
      "In Sample Accuracy = 0.005\n",
      "Out of Sample Accuracy = 0.0123747342848\n"
     ]
    }
   ],
   "source": [
    "print(\"In Sample Accuracy = \" + str(accuracy(classes,train_y[index])))\n",
    "oos_index = list(set(range(len(x2))) - set(index)) #index for out of sample\n",
    "print(\"Out of Sample Accuracy = \" + str(oos_accuracy(x2, train_y, weights)))"
   ]
  },
  {
   "cell_type": "code",
   "execution_count": null,
   "metadata": {
    "collapsed": true
   },
   "outputs": [],
   "source": []
  }
 ],
 "metadata": {
  "kernelspec": {
   "display_name": "Python [Root]",
   "language": "python",
   "name": "Python [Root]"
  }
 },
 "nbformat": 4,
 "nbformat_minor": 0
}
